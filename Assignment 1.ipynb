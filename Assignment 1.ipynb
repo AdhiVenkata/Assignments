{
 "cells": [
  {
   "cell_type": "markdown",
   "metadata": {},
   "source": [
    "## Qn1"
   ]
  },
  {
   "cell_type": "code",
   "execution_count": null,
   "metadata": {},
   "outputs": [],
   "source": [
    "numbers_str =''\n",
    "for i in range(2000,3001):\n",
    "    if i%7 == 0:\n",
    "        if i%5 != 0:\n",
    "            if numbers_str == '':\n",
    "                numbers_str = str(i)\n",
    "            numbers_str = numbers_str + ',' + str(i) \n",
    "print(numbers_str)\n",
    "    "
   ]
  },
  {
   "cell_type": "markdown",
   "metadata": {},
   "source": [
    "## Qn2"
   ]
  },
  {
   "cell_type": "code",
   "execution_count": null,
   "metadata": {},
   "outputs": [],
   "source": [
    "first_name = input(\"Enter First Name\\n\")\n",
    "last_name = input(\"Enter Last Name\\n\")\n",
    "full_name = last_name +' '+ first_name\n",
    "print(\"your full name is:\",full_name)"
   ]
  },
  {
   "cell_type": "markdown",
   "metadata": {},
   "source": [
    "## Qn3"
   ]
  },
  {
   "cell_type": "code",
   "execution_count": null,
   "metadata": {},
   "outputs": [],
   "source": [
    "def find_volume_sphere(r, unit):\n",
    "    volume = (4/3)*(22/7)*(r**3)\n",
    "    return f\"volume is {volume} cubic {unit}\"\n",
    "r,u = 12,'cm'\n",
    "print(find_volume_sphere(r,u))"
   ]
  }
 ],
 "metadata": {
  "kernelspec": {
   "display_name": "Python 3",
   "language": "python",
   "name": "python3"
  },
  "language_info": {
   "codemirror_mode": {
    "name": "ipython",
    "version": 3
   },
   "file_extension": ".py",
   "mimetype": "text/x-python",
   "name": "python",
   "nbconvert_exporter": "python",
   "pygments_lexer": "ipython3",
   "version": "3.7.6"
  }
 },
 "nbformat": 4,
 "nbformat_minor": 4
}
